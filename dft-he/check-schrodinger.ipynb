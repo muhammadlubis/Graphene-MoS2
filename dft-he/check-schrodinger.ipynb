{
 "cells": [
  {
   "cell_type": "code",
   "execution_count": null,
   "metadata": {},
   "outputs": [],
   "source": [
    "# Import the necessary packages and modules\n",
    "# sci.mplstyle is customized Matplotlib style\n",
    "import matplotlib.pyplot as plt\n",
    "plt.style.use('../matplotlib/sci.mplstyle')\n",
    "import numpy as np\n",
    "from schrodinger import solve_schrodinger\n",
    "\n",
    "# Set r from 0 to 15 bohr with 50000 steps\n",
    "r, dr = np.linspace(0, 15, 50001, retstep=True)\n",
    "r = r[1:]  # Skip r = 0\n",
    "\n",
    "# Consider only kinetic energy of hedium\n",
    "Z = 2\n",
    "V = -Z/r\n",
    "\n",
    "# Solve the reduced radial equation u\"(r) = -2(E-V)u(r)\n",
    "eps, u = solve_schrodinger(r, V)\n",
    "# Normalize u(r)\n",
    "u /= np.linalg.norm(u)*np.sqrt(dr)\n",
    "\n",
    "# Total electron density\n",
    "n = 2*(u**2/4/np.pi/r**2)\n",
    "\n",
    "# Compare with exact density of helium\n",
    "n_exact = (2*Z**3/np.pi)*np.exp(-2*Z*r)\n",
    "\n",
    "# Plot the comparison \n",
    "plt.figure()\n",
    "plt.plot(r, n, label='numerov')\n",
    "plt.plot(r, n_exact, ':', lw=4, label='exact')\n",
    "plt.xlabel('$r$ ($a_0$)')\n",
    "plt.ylabel('$n(r)$ (a.u.)')\n",
    "plt.title('Electron density of helium')\n",
    "plt.legend(loc='best')\n",
    "plt.xlim(0, 5)\n",
    "plt.show()"
   ]
  }
 ],
 "metadata": {
  "kernelspec": {
   "display_name": "Python 3 (ipykernel)",
   "language": "python",
   "name": "python3"
  },
  "language_info": {
   "codemirror_mode": {
    "name": "ipython",
    "version": 3
   },
   "file_extension": ".py",
   "mimetype": "text/x-python",
   "name": "python",
   "nbconvert_exporter": "python",
   "pygments_lexer": "ipython3",
   "version": "3.9.7"
  }
 },
 "nbformat": 4,
 "nbformat_minor": 4
}
