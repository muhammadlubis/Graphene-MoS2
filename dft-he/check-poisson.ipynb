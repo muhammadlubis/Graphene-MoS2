{
 "cells": [
  {
   "cell_type": "code",
   "execution_count": null,
   "metadata": {},
   "outputs": [],
   "source": [
    "# Import the necessary packages and modules\n",
    "# sci.mplstyle is customized Matplotlib style\n",
    "import matplotlib.pyplot as plt\n",
    "plt.style.use('../matplotlib/sci.mplstyle')\n",
    "import numpy as np\n",
    "from schrodinger import solve_schrodinger\n",
    "from poisson import solve_poisson\n",
    "\n",
    "# Set r from 0 to 15 bohr with 50000 steps\n",
    "r, dr = np.linspace(0, 15, 50001, retstep=True)\n",
    "r = r[1:]  # Skip r = 0\n",
    "\n",
    "# Consider only kinetic energy of helium\n",
    "Z = 2\n",
    "V = -Z/r\n",
    "\n",
    "# Solve the radial Schrodinger equation\n",
    "eps, u = solve_schrodinger(r, V)\n",
    "\n",
    "# Normalize the radial wave function u(r)\n",
    "u /= np.linalg.norm(u)*np.sqrt(dr)\n",
    "\n",
    "# Solve the radial Poisson equation\n",
    "U_H = solve_poisson(r, u)\n",
    "\n",
    "# Convert U_H(r) to the Hartree potential V_H(r)\n",
    "V_H = 2*U_H/r\n",
    "\n",
    "# Compare with the exact Hartree potential of helium\n",
    "V_exact = -2*(Z + 1/r)*np.exp(-2*Z*r) + Z/r\n",
    "\n",
    "# Plot the comparison \n",
    "plt.plot(r, V_H, label='verlet')\n",
    "plt.plot(r, V_exact, ':', lw=4, label='exact')\n",
    "plt.xlabel('r (bohr)')\n",
    "plt.ylabel('$\\mathcal{V}_H(r)$ (a.u.)')\n",
    "plt.title('Hartree potential of helium')\n",
    "plt.legend(loc='best')\n",
    "plt.xlim(0, 5)\n",
    "plt.show()"
   ]
  }
 ],
 "metadata": {
  "kernelspec": {
   "display_name": "Python 3 (ipykernel)",
   "language": "python",
   "name": "python3"
  },
  "language_info": {
   "codemirror_mode": {
    "name": "ipython",
    "version": 3
   },
   "file_extension": ".py",
   "mimetype": "text/x-python",
   "name": "python",
   "nbconvert_exporter": "python",
   "pygments_lexer": "ipython3",
   "version": "3.9.7"
  }
 },
 "nbformat": 4,
 "nbformat_minor": 4
}
