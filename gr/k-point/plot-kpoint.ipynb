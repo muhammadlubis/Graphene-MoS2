{
 "cells": [
  {
   "cell_type": "code",
   "execution_count": null,
   "metadata": {},
   "outputs": [],
   "source": [
    "# Import the necessary packages and modules\n",
    "import matplotlib.pyplot as plt\n",
    "plt.style.use('../../matplotlib/sci.mplstyle')\n",
    "import numpy as np\n",
    "    \n",
    "# Open and read the file calc-kpoint.dat\n",
    "kp, ener = np.loadtxt('calc-kpoint.dat', delimiter=' ', unpack=True)\n",
    "\n",
    "# Create figure object\n",
    "plt.figure()\n",
    "# Plot the data, using black color\n",
    "plt.scatter(kp, ener, s=150)\n",
    "# Plot a dashed line at 14x14x1\n",
    "plt.axhline(ener[10], c='gray', ls='--')\n",
    "# Set the axis limits\n",
    "plt.xlim(0, 200)\n",
    "plt.ylim(-23.913, -23.905)\n",
    "# Add the x and y-axis labels\n",
    "plt.xlabel('Number of k-points')\n",
    "plt.ylabel('Total energy (Ry)')\n",
    "# Save figure to the pdf file\n",
    "plt.savefig('plot-kpoint.pdf')\n",
    "# Show figure\n",
    "plt.show()"
   ]
  }
 ],
 "metadata": {
  "kernelspec": {
   "display_name": "Python 3 (ipykernel)",
   "language": "python",
   "name": "python3"
  },
  "language_info": {
   "codemirror_mode": {
    "name": "ipython",
    "version": 3
   },
   "file_extension": ".py",
   "mimetype": "text/x-python",
   "name": "python",
   "nbconvert_exporter": "python",
   "pygments_lexer": "ipython3",
   "version": "3.9.7"
  }
 },
 "nbformat": 4,
 "nbformat_minor": 4
}
