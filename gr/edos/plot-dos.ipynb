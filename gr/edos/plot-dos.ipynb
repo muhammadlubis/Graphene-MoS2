{
 "cells": [
  {
   "cell_type": "code",
   "execution_count": null,
   "id": "previous-college",
   "metadata": {},
   "outputs": [],
   "source": [
    "# Import the necessary packages and modules\n",
    "import matplotlib.pyplot as plt\n",
    "plt.style.use('../../matplotlib/sci.mplstyle')\n",
    "import numpy as np\n",
    "\n",
    "# The Fermi energy, find it in header row of gr.dos\n",
    "efermi = -1.724\n",
    "\n",
    "# Open and read the file gr.dos\n",
    "ener, dos, idos = np.loadtxt('gr.dos', unpack=True)\n",
    "    \n",
    "# Create figure object\n",
    "plt.figure()\n",
    "# Plot the DOS, in which the Fermi energy shifts to zero\n",
    "plt.plot(ener-efermi, dos, c='b')\n",
    "# Add the x and y-axis labels\n",
    "plt.xlabel('Energy (eV)')\n",
    "plt.ylabel('DOS (state/eV/unit-cell)')\n",
    "# Set the axis limits\n",
    "plt.xlim(-20, 20)\n",
    "plt.ylim(0, 4)\n",
    "# Save the figure to the pdf file\n",
    "plt.savefig('plot-dos.pdf')\n",
    "# Show the figure\n",
    "plt.show()"
   ]
  }
 ],
 "metadata": {
  "kernelspec": {
   "display_name": "Python 3 (ipykernel)",
   "language": "python",
   "name": "python3"
  },
  "language_info": {
   "codemirror_mode": {
    "name": "ipython",
    "version": 3
   },
   "file_extension": ".py",
   "mimetype": "text/x-python",
   "name": "python",
   "nbconvert_exporter": "python",
   "pygments_lexer": "ipython3",
   "version": "3.9.7"
  }
 },
 "nbformat": 4,
 "nbformat_minor": 5
}
