{
 "cells": [
  {
   "cell_type": "code",
   "execution_count": null,
   "metadata": {},
   "outputs": [],
   "source": [
    "# Import the necessary packages and modules\n",
    "import matplotlib.pyplot as plt\n",
    "plt.style.use('../../matplotlib/sci.mplstyle')\n",
    "import numpy as np\n",
    "\n",
    "# Open and read the file calc-ecut.dat\n",
    "#with open('calc-ecut.dat') as f:\n",
    "#    lines = f.readlines()\n",
    "#    ecut = np.array([line.split()[0] for line in lines],dtype=float)\n",
    "#    ener = np.array([line.split()[1] for line in lines],dtype=float)\n",
    "\n",
    "# Open and read the file calc-ecut.dat\n",
    "ecut, ener = np.loadtxt('calc-ecut.dat', delimiter=' ', unpack=True)\n",
    "\n",
    "# Create figure object\n",
    "plt.figure()\n",
    "\n",
    "# Plot the data, using scatter plot\n",
    "plt.scatter(ecut, ener, s=150)\n",
    "\n",
    "# Plot a dashed line at 80 Ry\n",
    "plt.axhline(ener[14], c='gray', ls='--')\n",
    "\n",
    "# Add the x and y-axis labels\n",
    "plt.xlabel('Cut-off energy (Ry)')\n",
    "plt.ylabel('Total energy (Ry)')\n",
    "\n",
    "# Set the axis limits\n",
    "plt.xlim (20, 80)\n",
    "plt.ylim (-23.94, -23.56)\n",
    "\n",
    "# Save a figure to the pdf file\n",
    "plt.savefig('plot-ecut.pdf')\n",
    "\n",
    "# Show plot\n",
    "plt.show()"
   ]
  }
 ],
 "metadata": {
  "kernelspec": {
   "display_name": "Python 3 (ipykernel)",
   "language": "python",
   "name": "python3"
  },
  "language_info": {
   "codemirror_mode": {
    "name": "ipython",
    "version": 3
   },
   "file_extension": ".py",
   "mimetype": "text/x-python",
   "name": "python",
   "nbconvert_exporter": "python",
   "pygments_lexer": "ipython3",
   "version": "3.9.7"
  }
 },
 "nbformat": 4,
 "nbformat_minor": 4
}
