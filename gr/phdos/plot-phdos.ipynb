{
 "cells": [
  {
   "cell_type": "code",
   "execution_count": null,
   "id": "severe-outdoors",
   "metadata": {},
   "outputs": [],
   "source": [
    "# Import the necessary packages and modules\n",
    "import matplotlib.pyplot as plt\n",
    "plt.style.use('../../matplotlib/sci.mplstyle')\n",
    "import numpy as np\n",
    "\n",
    "# Load data from gr.dos\n",
    "omega, ph_tot, ph_c1, ph_c2 = np.loadtxt('gr.dos', unpack=True)\n",
    "\n",
    "# Create figure object\n",
    "plt.figure()\n",
    "# Plot the phonon DOS\n",
    "plt.plot(omega, ph_tot, c='b', label='Total')\n",
    "plt.plot(omega, ph_c1, c='r', ls='dashed', label='C atom')\n",
    "# Add the x and y-axis labels\n",
    "plt.xlabel('Frequency (cm$^{-1}$)')\n",
    "plt.ylabel('Phonon DOS (state/cm$^{-1}$/unit-cell)')\n",
    "# Add the legend\n",
    "plt.legend(loc='upper left')\n",
    "# Set the axis limits\n",
    "plt.xlim(0, 1700)\n",
    "plt.ylim(0, 0.025)\n",
    "# Save the figure\n",
    "plt.savefig('plot-phdos.pdf')\n",
    "# Show the figure\n",
    "plt.show()"
   ]
  }
 ],
 "metadata": {
  "interpreter": {
   "hash": "953bdd8362ad3c8eff36b36cb64fc6a65e7a76bcbcffa8e230c7cf7b3cebc148"
  },
  "kernelspec": {
   "display_name": "Python 3 (ipykernel)",
   "language": "python",
   "name": "python3"
  },
  "language_info": {
   "codemirror_mode": {
    "name": "ipython",
    "version": 3
   },
   "file_extension": ".py",
   "mimetype": "text/x-python",
   "name": "python",
   "nbconvert_exporter": "python",
   "pygments_lexer": "ipython3",
   "version": "3.9.7"
  }
 },
 "nbformat": 4,
 "nbformat_minor": 5
}
