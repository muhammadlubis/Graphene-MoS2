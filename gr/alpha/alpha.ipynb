{
 "cells": [
  {
   "cell_type": "code",
   "execution_count": null,
   "id": "d6e165a9",
   "metadata": {},
   "outputs": [],
   "source": [
    "# Import the necessary packages and modules\n",
    "import matplotlib.pyplot as plt\n",
    "plt.style.use('../../matplotlib/sci.mplstyle')\n",
    "import numpy as np\n",
    "\n",
    "# Convert from Ry to cm^-1\n",
    "ry2cm = 109737.07176\n",
    "\n",
    "# Open and read the a2F.dos* file\n",
    "omega1, aF1 = np.genfromtxt('a2F.dos5', usecols=(0,1), skip_footer=1, unpack=True)\n",
    "omega2, aF2 = np.genfromtxt('a2F.dos10', usecols=(0,1), skip_footer=1, unpack=True)\n",
    "    \n",
    "# Create figure object\n",
    "plt.figure()\n",
    "# Plot the JDOS\n",
    "plt.plot(omega1*ry2cm, aF1, c='b', label='Broadening 0.1 Ry')\n",
    "plt.plot(omega2*ry2cm, aF2, c='r',ls='--', label='Broadening 0.2 Ry')\n",
    "# Add the x and y-axis labels\n",
    "plt.xlabel(r'$\\omega$ (cm$^{-1}$)')\n",
    "plt.ylabel(r'$\\alpha^2 F(\\omega)$')\n",
    "# Add the the legend\n",
    "plt.legend(loc='upper left')\n",
    "# Set the axis limits\n",
    "plt.xlim(0, 1700)\n",
    "plt.ylim(0, 0.45)\n",
    "# Save a figure to the pdf file\n",
    "plt.savefig('plot-aF.pdf')\n",
    "# Show plot\n",
    "plt.show()"
   ]
  }
 ],
 "metadata": {
  "kernelspec": {
   "display_name": "Python 3 (ipykernel)",
   "language": "python",
   "name": "python3"
  },
  "language_info": {
   "codemirror_mode": {
    "name": "ipython",
    "version": 3
   },
   "file_extension": ".py",
   "mimetype": "text/x-python",
   "name": "python",
   "nbconvert_exporter": "python",
   "pygments_lexer": "ipython3",
   "version": "3.9.7"
  }
 },
 "nbformat": 4,
 "nbformat_minor": 5
}
