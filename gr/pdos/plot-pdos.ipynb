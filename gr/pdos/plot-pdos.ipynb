{
 "cells": [
  {
   "cell_type": "code",
   "execution_count": null,
   "id": "electric-frequency",
   "metadata": {},
   "outputs": [],
   "source": [
    "# Import the necessary packages and modules\n",
    "import matplotlib.pyplot as plt\n",
    "plt.style.use('../../matplotlib/sci.mplstyle')\n",
    "import numpy as np\n",
    "\n",
    "# The Fermi energy, find it in nscf.out\n",
    "efermi = -1.7241\n",
    "\n",
    "# Define the function to read the data file\n",
    "def r_dos(name):\n",
    "    ener, dos = np.loadtxt(name, usecols=(0,1), unpack=True)\n",
    "    return ener, dos\n",
    "\n",
    "# Open and read the total PDOS\n",
    "ener, dos = r_dos('gr.pdos_tot')\n",
    "# Open and read the PDOS files for C atom number 1\n",
    "ener1, p1C1s = r_dos('gr.pdos_atm#1(C)_wfc#1(s)')\n",
    "ener1, p1C2p = r_dos('gr.pdos_atm#1(C)_wfc#2(p)')\n",
    "# Open and read the PDOS files for C atom number 2\n",
    "ener2, p2C1s = r_dos('gr.pdos_atm#2(C)_wfc#1(s)')\n",
    "ener2, p2C2p = r_dos('gr.pdos_atm#2(C)_wfc#2(p)')\n",
    "\n",
    "# Create figure object\n",
    "plt.figure()\n",
    "# Plot the DOS\n",
    "plt.plot(ener-efermi, dos, c='k')\n",
    "# Plot the PDOS of s-orbital\n",
    "plt.plot(ener1-efermi, p1C1s+p2C1s, c='b')\n",
    "# Plot the PDOS of p-orbital\n",
    "plt.plot(ener2-efermi, p1C2p+p2C2p, c='r')\n",
    "# Add the x and y-axis labels\n",
    "plt.xlabel('Energy (eV)')\n",
    "plt.ylabel('PDOS (state/eV/unit-cell)')\n",
    "# Set the axis limits\n",
    "plt.xlim(-20, 20)\n",
    "plt.ylim(0, 4)\n",
    "# Save the figure\n",
    "plt.savefig('plot-pdos.pdf')\n",
    "# Show the figure\n",
    "plt.show()"
   ]
  }
 ],
 "metadata": {
  "kernelspec": {
   "display_name": "Python 3 (ipykernel)",
   "language": "python",
   "name": "python3"
  },
  "language_info": {
   "codemirror_mode": {
    "name": "ipython",
    "version": 3
   },
   "file_extension": ".py",
   "mimetype": "text/x-python",
   "name": "python",
   "nbconvert_exporter": "python",
   "pygments_lexer": "ipython3",
   "version": "3.9.7"
  }
 },
 "nbformat": 4,
 "nbformat_minor": 5
}
