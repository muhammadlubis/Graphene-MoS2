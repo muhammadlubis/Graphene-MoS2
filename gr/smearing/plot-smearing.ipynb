{
 "cells": [
  {
   "cell_type": "code",
   "execution_count": null,
   "metadata": {},
   "outputs": [],
   "source": [
    "# Import the necessary packages and modules\n",
    "import matplotlib.pyplot as plt\n",
    "plt.style.use('../../matplotlib/sci.mplstyle')\n",
    "\n",
    "# Open and read the file calc-smearing.dat\n",
    "f = open('calc-smearing.dat', 'r')\n",
    "f_smearing = [line for line in f.readlines() if line.strip()]\n",
    "f.close()\n",
    "\n",
    "# Number of the smearing functions\n",
    "nsf = 4\n",
    "# Number of the values of smearing energy\n",
    "nse = 8\n",
    "\n",
    "# Read the smearing energy (se) and total energy (energy) for each smearing function\n",
    "se = []\n",
    "ener = []\n",
    "for i in range(nsf):\n",
    "    se.append([])\n",
    "    ener.append([])\n",
    "    for j in range(nse):\n",
    "        tmp1 = f_smearing[i*nse+j].split()[1]\n",
    "        tmp2 = f_smearing[i*nse+j].split()[2]\n",
    "        se[i].append(float(tmp1))\n",
    "        ener[i].append(float(tmp2))\n",
    "\n",
    "# Create figure object\n",
    "plt.figure()\n",
    "# Plot the data\n",
    "plt.plot(se[0], ener[0], 'o-', label='Fermi-Dirac')\n",
    "plt.plot(se[1], ener[1], 's-', label='Gaussian')\n",
    "plt.plot(se[2], ener[2], 'v-', label='Methfessel-Paxton')\n",
    "plt.plot(se[3], ener[3], '^-', label='Marzari-Vanderbilt')\n",
    "\n",
    "# Add the the legend\n",
    "plt.legend(loc='lower left')\n",
    "# Add the x and y-axis labels\n",
    "plt.xlabel('Smearing energy (Ry)')\n",
    "plt.ylabel('Total energy (Ry)')\n",
    "# Set the axis limits\n",
    "plt.xlim(0.002, 0.042)\n",
    "plt.ylim(-23.914, -23.908)\n",
    "\n",
    "# Save a figure to the pdf file\n",
    "plt.savefig('plot-smearing.pdf')\n",
    "# Show figure\n",
    "plt.show()"
   ]
  }
 ],
 "metadata": {
  "kernelspec": {
   "display_name": "Python 3 (ipykernel)",
   "language": "python",
   "name": "python3"
  },
  "language_info": {
   "codemirror_mode": {
    "name": "ipython",
    "version": 3
   },
   "file_extension": ".py",
   "mimetype": "text/x-python",
   "name": "python",
   "nbconvert_exporter": "python",
   "pygments_lexer": "ipython3",
   "version": "3.9.7"
  }
 },
 "nbformat": 4,
 "nbformat_minor": 4
}
