{
 "cells": [
  {
   "cell_type": "code",
   "execution_count": null,
   "id": "human-avenue",
   "metadata": {},
   "outputs": [],
   "source": [
    "# Import the necessary packages and modules\n",
    "import matplotlib.pyplot as plt\n",
    "import numpy as np\n",
    "plt.style.use('../../matplotlib/sci.mplstyle')\n",
    "\n",
    "# Number of phonon modes and q-points from gr.freq\n",
    "nbnd = 6; nks = 91\n",
    "\n",
    "# Open gr.freq.gp file\n",
    "qs, *ph = np.loadtxt('gr.freq.gp', unpack=True)\n",
    "\n",
    "# Read phonon at each phonon index\n",
    "ph0 = []\n",
    "for iq in range(nks):\n",
    "    ph0.append([])\n",
    "    for ib in range(nbnd):\n",
    "        tmp = ph[ib][iq]\n",
    "        ph0[iq].append(float(tmp))\n",
    "    \n",
    "# Set high-symmetry points from matdyn.in\n",
    "G1 = qs[0]; K = qs[40]; M = qs[60]; G2 = qs[90]\n",
    "\n",
    "# Create figure object\n",
    "plt.figure()\n",
    "\n",
    "# Plot dotted lines at high-symmetry points\n",
    "plt.axvline(K, c='gray')\n",
    "plt.axvline(M, c='gray')\n",
    "# Plot the phonon dispersion\n",
    "plt.plot(qs, ph0, c='b')\n",
    "\n",
    "# Add the x and y-axis labels\n",
    "plt.xlabel('')\n",
    "plt.ylabel('Frequency (cm$^{-1}$)')\n",
    "\n",
    "plt.xlim(G1, G2)\n",
    "plt.ylim(-50, 1700)\n",
    "\n",
    "# Add labels for high-symmetry points\n",
    "plt.xticks([G1, K, M, G2], ['$\\Gamma$', 'K', 'M', '$\\Gamma$'])\n",
    "# Hide x-axis minor ticks\n",
    "plt.tick_params(axis='x', which='minor', bottom=False, top=False)\n",
    "\n",
    "# Save the figure \n",
    "plt.savefig('plot-phonon.pdf')\n",
    "# Show the plot\n",
    "plt.show()"
   ]
  }
 ],
 "metadata": {
  "kernelspec": {
   "display_name": "Python 3 (ipykernel)",
   "language": "python",
   "name": "python3"
  },
  "language_info": {
   "codemirror_mode": {
    "name": "ipython",
    "version": 3
   },
   "file_extension": ".py",
   "mimetype": "text/x-python",
   "name": "python",
   "nbconvert_exporter": "python",
   "pygments_lexer": "ipython3",
   "version": "3.9.7"
  }
 },
 "nbformat": 4,
 "nbformat_minor": 5
}
