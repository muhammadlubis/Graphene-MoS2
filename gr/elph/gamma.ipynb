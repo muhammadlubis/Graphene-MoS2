{
 "cells": [
  {
   "cell_type": "code",
   "execution_count": null,
   "id": "b2657105",
   "metadata": {},
   "outputs": [],
   "source": [
    "# Import the necessary packages and modules\n",
    "import matplotlib.pyplot as plt\n",
    "plt.style.use('../../matplotlib/sci.mplstyle')\n",
    "import numpy as np\n",
    "\n",
    "# Convert from GHz to meV\n",
    "ghz2mev = 4.13567587265e-3\n",
    "\n",
    "# Load elph.gamma.5.gnu file\n",
    "data = np.loadtxt('elph.gamma.5.gnu')\n",
    "k = np.unique(data[:, 0])\n",
    "gamma = np.reshape(data[:, 1], (-1, len(k)))\n",
    "\n",
    "# Set high-symmetry points from matdyn.in\n",
    "gG1 = k[0]; K = k[40]; M = k[60]; gG2 = k[90]\n",
    "\n",
    "# Create figure object\n",
    "plt.figure()\n",
    "plt.axhline(0, c='gray', ls=':')\n",
    "# Plot dotted lines at high-symmetry points\n",
    "plt.axvline(K, c='gray')\n",
    "plt.axvline(M, c='gray')\n",
    "# Plot phonon linewidth\n",
    "for i in range(len(gamma)):\n",
    "    plt.plot(k, gamma[i, :]*ghz2mev, c='r', ls='None', marker='o', markersize=7)\n",
    "# Add the x and y-axis labels\n",
    "plt.xlabel('')\n",
    "plt.ylabel('Phonon linewidth (meV)')\n",
    "# Set the axis limits\n",
    "plt.xlim(gG1, gG2)\n",
    "plt.ylim (-0.1, 1.1)\n",
    "# Add labels for high-symmetry points\n",
    "plt.xticks([gG1, K, M, gG2], ['$\\Gamma$', 'K', 'M', '$\\Gamma$'])\n",
    "# Hide the x-axis minor ticks\n",
    "plt.tick_params(axis='x', which='minor', bottom=False, top=False)\n",
    "# Save the figure\n",
    "plt.savefig('plot-gamma.pdf')\n",
    "# Show the figure\n",
    "plt.show()"
   ]
  }
 ],
 "metadata": {
  "kernelspec": {
   "display_name": "Python 3 (ipykernel)",
   "language": "python",
   "name": "python3"
  },
  "language_info": {
   "codemirror_mode": {
    "name": "ipython",
    "version": 3
   },
   "file_extension": ".py",
   "mimetype": "text/x-python",
   "name": "python",
   "nbconvert_exporter": "python",
   "pygments_lexer": "ipython3",
   "version": "3.9.7"
  }
 },
 "nbformat": 4,
 "nbformat_minor": 5
}
