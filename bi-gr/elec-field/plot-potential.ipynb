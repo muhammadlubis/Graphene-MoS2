{
 "cells": [
  {
   "cell_type": "code",
   "execution_count": null,
   "metadata": {},
   "outputs": [],
   "source": [
    "# Import the necessary packages and modules\n",
    "import matplotlib.pyplot as plt\n",
    "plt.style.use('../../matplotlib/sci.mplstyle')\n",
    "import numpy as np\n",
    "\n",
    "# Load data\n",
    "z, V = np.loadtxt('avg.dat', usecols=(0,1), unpack=True)\n",
    "\n",
    "au2a = 0.529177249 # Convert a.u. to Angstrom\n",
    "ry2ev = 13.605698066 # Convert Ry to eV\n",
    "\n",
    "# Create figure object\n",
    "plt.figure(figsize=(4.5,4.5))\n",
    "# Plot the data, using blue color\n",
    "plt.plot(z*au2a, V*ry2ev, c='b')\n",
    "# Plot a dashed line at zero\n",
    "plt.axhline(0, c='gray', ls='--')\n",
    "# Set the axis limits\n",
    "plt.xlim(0, 20)\n",
    "plt.ylim(-40, 10)\n",
    "# Add the x and y-axis labels\n",
    "plt.xlabel('z ($\\AA$)')\n",
    "plt.ylabel('Electrostatic potential (Ry)')\n",
    "# Save a figure to the pdf file\n",
    "plt.savefig('plot-V.pdf')\n",
    "# Show figure\n",
    "plt.show()"
   ]
  }
 ],
 "metadata": {
  "kernelspec": {
   "display_name": "Python 3 (ipykernel)",
   "language": "python",
   "name": "python3"
  },
  "language_info": {
   "codemirror_mode": {
    "name": "ipython",
    "version": 3
   },
   "file_extension": ".py",
   "mimetype": "text/x-python",
   "name": "python",
   "nbconvert_exporter": "python",
   "pygments_lexer": "ipython3",
   "version": "3.10.6"
  }
 },
 "nbformat": 4,
 "nbformat_minor": 4
}
