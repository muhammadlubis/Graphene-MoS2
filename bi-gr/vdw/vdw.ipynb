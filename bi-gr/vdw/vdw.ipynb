{
 "cells": [
  {
   "cell_type": "code",
   "execution_count": null,
   "id": "working-reception",
   "metadata": {},
   "outputs": [],
   "source": [
    "import matplotlib.pyplot as plt\n",
    "plt.style.use('../../matplotlib/sci.mplstyle')\n",
    "import numpy as np\n",
    "\n",
    "with open('vdw.dat') as f:\n",
    "    lines = f.readlines()\n",
    "    sys = np.array([line.split()[0] for line in lines],dtype=float)  \n",
    "    ener = np.array([line.split()[3] for line in lines],dtype=float)\n",
    "    \n",
    "labels = ['$E$', '$E$', '$E$', '$E$', '$E$', '$E$', '$E$', '$E$']\n",
    "y_pos = np.arange(len(labels))\n",
    "\n",
    "fig = plt.figure(figsize=(8,5))\n",
    "ax1 = fig.add_subplot(111)\n",
    "ax1.bar(sys[0], ener[0]-3.48,color='gray', edgecolor='black', width= 0.7)\n",
    "ax1.bar(sys[1], ener[1]-3.48,color='white', edgecolor='black', width= 0.7, hatch='//')\n",
    "ax1.bar(sys[2], ener[2]-3.48,color='white', edgecolor='black', width= 0.7, hatch='++')\n",
    "ax1.bar(sys[3], ener[3]-3.48,color='white', edgecolor='black', width= 0.7, hatch='xx')\n",
    "ax1.bar(sys[4], ener[4]-3.48,color='white', edgecolor='black', width= 0.7, hatch='\\\\\\\\')\n",
    "ax1.bar(sys[5], ener[5]-3.48,color='white', edgecolor='black', width= 0.7, hatch='oo')\n",
    "ax1.bar(sys[6], ener[6]-3.48,color='white', edgecolor='black', width= 0.7, hatch='||')\n",
    "ax1.bar(sys[7], ener[7]-3.48,color='white', edgecolor='black', width= 0.7, hatch='**')\n",
    "ax1.axhline(y=0, color='k', linestyle='-')\n",
    "\n",
    "ax1.set(xlabel='', ylabel=r'$d - d_{exp}$ ($\\AA$)')\n",
    "\n",
    "# Set the axis limits\n",
    "ax1.set_xlim(0.3, 7.7)\n",
    "ax1.set_ylim(-0.5, 1.2)\n",
    "\n",
    "ax1.text(1, 0.85, r'PBE',horizontalalignment='center', fontsize=20, rotation=90)\n",
    "ax1.text(2, 0.2, r'vdW-DF',horizontalalignment='center', fontsize=20, rotation=90)\n",
    "ax1.text(3, 0.15, r'vdW-DF2',horizontalalignment='center', fontsize=20, rotation=90)\n",
    "ax1.text(4, 0.1, r'vdW-DF3-opt1',horizontalalignment='center', fontsize=20, rotation=90)\n",
    "ax1.text(5, 0.1, r'vdW-DF3-opt2',horizontalalignment='center', fontsize=20, rotation=90)\n",
    "ax1.text(6, 0.1, r'vdW-DF-C6',horizontalalignment='center', fontsize=20, rotation=90)\n",
    "ax1.text(7, 0.1, r'rVV10',horizontalalignment='center', fontsize=20, rotation=90)\n",
    "\n",
    "# Remove xticks\n",
    "plt.tick_params( axis='x', which='both', bottom=False, top=False, labelbottom=False)\n",
    "\n",
    "plt.tight_layout()\n",
    "plt.savefig('vdw.pdf', bbox_inches='tight')\n",
    "plt.show()"
   ]
  },
  {
   "cell_type": "code",
   "execution_count": null,
   "id": "suspected-precipitation",
   "metadata": {},
   "outputs": [],
   "source": []
  }
 ],
 "metadata": {
  "kernelspec": {
   "display_name": "Python 3 (ipykernel)",
   "language": "python",
   "name": "python3"
  },
  "language_info": {
   "codemirror_mode": {
    "name": "ipython",
    "version": 3
   },
   "file_extension": ".py",
   "mimetype": "text/x-python",
   "name": "python",
   "nbconvert_exporter": "python",
   "pygments_lexer": "ipython3",
   "version": "3.10.6"
  }
 },
 "nbformat": 4,
 "nbformat_minor": 5
}
