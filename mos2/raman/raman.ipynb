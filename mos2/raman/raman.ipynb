{
 "cells": [
  {
   "cell_type": "code",
   "execution_count": null,
   "metadata": {},
   "outputs": [],
   "source": [
    "# Import the necessary packages and modules\n",
    "import matplotlib.pyplot as plt\n",
    "plt.style.use('../../matplotlib/sci.mplstyle')\n",
    "import numpy as np\n",
    "\n",
    "#The Gaussian function\n",
    "def gaussian(w, G, w0, I0):\n",
    "    return I0*np.exp(-((w-w0)/G)**2)\n",
    "\n",
    "#Peaks list of non-resonant Raman in dynmat.out\n",
    "peak =[(384.72,178.7551),(403.67,176.8187)]\n",
    "\n",
    "#Fitting with the Gaussian function\n",
    "def fit(w, G):\n",
    "    fit = gaussian(w, G, 0, 0)\n",
    "    for w0, I0 in peak:\n",
    "        fit = fit + gaussian(w, G, w0, I0)\n",
    "    return fit\n",
    "\n",
    "w = np.linspace(350, 450, 500)\n",
    "\n",
    "# Create figure object\n",
    "plt.figure()\n",
    "# Plot the non-resonant Raman\n",
    "plt.plot(w, fit(w,2), c='b')\n",
    "# Add the x and y-axis labels\n",
    "plt.xlabel('Raman shift (cm$^{-1}$)')\n",
    "plt.ylabel('Intensity (a.u.)')\n",
    "# Hide y-axis minor ticks\n",
    "plt.tick_params(axis='y', which='both', right=False, left=False, labelleft=False)\n",
    "plt.tick_params(axis='x', which='both', top=False)\n",
    "# Set the axis limits\n",
    "plt.xlim(370, 420)\n",
    "# Save a figure to the pdf file\n",
    "plt.savefig('plot-raman.pdf')\n",
    "# Show plot\n",
    "plt.show()"
   ]
  }
 ],
 "metadata": {
  "kernelspec": {
   "display_name": "Python 3 (ipykernel)",
   "language": "python",
   "name": "python3"
  },
  "language_info": {
   "codemirror_mode": {
    "name": "ipython",
    "version": 3
   },
   "file_extension": ".py",
   "mimetype": "text/x-python",
   "name": "python",
   "nbconvert_exporter": "python",
   "pygments_lexer": "ipython3",
   "version": "3.10.6"
  }
 },
 "nbformat": 4,
 "nbformat_minor": 4
}
