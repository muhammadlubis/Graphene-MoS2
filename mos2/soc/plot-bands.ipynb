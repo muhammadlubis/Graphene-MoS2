{
 "cells": [
  {
   "cell_type": "code",
   "execution_count": null,
   "id": "ea3a42a9",
   "metadata": {},
   "outputs": [],
   "source": [
    "# Import the necessary packages and modules\n",
    "import matplotlib.pyplot as plt\n",
    "plt.style.use('../../matplotlib/sci.mplstyle')\n",
    "import numpy as np\n",
    "\n",
    "# The Fermi energy is shifted to the central band gap\n",
    "efermi = -0.0925\n",
    "\n",
    "# Load data from gr.bands.gnu\n",
    "data = np.loadtxt('mos2.bands.gnu')\n",
    "k = np.unique(data[:, 0])\n",
    "bands = np.reshape(data[:, 1], (-1, len(k)))\n",
    "\n",
    "# Set high-symmetry points from nscf.in\n",
    "gG1=k[0]; K=k[40]; M=k[60]; gG2=k[90]\n",
    "\n",
    "# Create figure object\n",
    "plt.figure(figsize=(4, 4))\n",
    "\n",
    "# Plot dotted line at Fermi energy\n",
    "plt.axhline(0, c='gray', ls=':')\n",
    "# Plot dotted lines at high-symmetry points\n",
    "plt.axvline(K, c='gray')\n",
    "plt.axvline(M, c='gray')\n",
    "\n",
    "# Plot band structure\n",
    "for band in range(len(bands)):\n",
    "    plt.plot(k, bands[band, :]-efermi, c='b')\n",
    "\n",
    "# Add the x and y-axis labels\n",
    "plt.xlabel('')\n",
    "plt.ylabel('Energy (eV)')\n",
    "\n",
    "# Set the axis limits\n",
    "plt.xlim(gG1, gG2)\n",
    "plt.ylim (-2.5, 2.5)\n",
    "\n",
    "# Add labels for high-symmetry points\n",
    "plt.xticks([gG1, K, M, gG2], ['$\\Gamma$', 'K', 'M', '$\\Gamma$'])\n",
    "# Hide x-axis minor ticks\n",
    "plt.tick_params(axis='x', which='minor', bottom=False, top=False)\n",
    "\n",
    "# Save a figure to the pdf file\n",
    "plt.savefig('plot-bands.pdf')\n",
    "# Show plot\n",
    "plt.show()"
   ]
  }
 ],
 "metadata": {
  "kernelspec": {
   "display_name": "Python 3 (ipykernel)",
   "language": "python",
   "name": "python3"
  },
  "language_info": {
   "codemirror_mode": {
    "name": "ipython",
    "version": 3
   },
   "file_extension": ".py",
   "mimetype": "text/x-python",
   "name": "python",
   "nbconvert_exporter": "python",
   "pygments_lexer": "ipython3",
   "version": "3.10.6"
  }
 },
 "nbformat": 4,
 "nbformat_minor": 5
}
